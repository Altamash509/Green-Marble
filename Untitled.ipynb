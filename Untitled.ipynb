{
 "cells": [
  {
   "cell_type": "code",
   "execution_count": 1,
   "id": "d033351a-feef-4d91-a21f-590eac66d8a8",
   "metadata": {},
   "outputs": [
    {
     "name": "stdout",
     "output_type": "stream",
     "text": [
      "Scraped 0 products from IndiaMART (Tiles)\n"
     ]
    }
   ],
   "source": [
    "import requests\n",
    "from bs4 import BeautifulSoup\n",
    "import pandas as pd\n",
    "from datetime import datetime\n",
    "\n",
    "# Target URL (Tiles category)\n",
    "url = \"https://dir.indiamart.com/impcat/floor-tiles.html\"\n",
    "headers = {\n",
    "    \"User-Agent\": \"Mozilla/5.0 (Windows NT 10.0; Win64; x64) AppleWebKit/537.36 (KHTML, like Gecko) Chrome/119 Safari/537.36\"\n",
    "}\n",
    "\n",
    "# Send GET request\n",
    "response = requests.get(url, headers=headers)\n",
    "soup = BeautifulSoup(response.content, 'html.parser')\n",
    "\n",
    "# Containers\n",
    "products = []\n",
    "\n",
    "# Loop through product cards\n",
    "cards = soup.find_all(\"div\", class_=\"prd-name\")\n",
    "for card in cards:\n",
    "    try:\n",
    "        product_name = card.find(\"a\").get_text(strip=True)\n",
    "        product_url = \"https:\" + card.find(\"a\")['href']\n",
    "    except:\n",
    "        product_name = None\n",
    "        product_url = None\n",
    "\n",
    "    # Navigate up to get price and description\n",
    "    parent = card.find_parent(\"div\", class_=\"lst\")\n",
    "    try:\n",
    "        price = parent.find(\"span\", class_=\"prd-price\").get_text(strip=True)\n",
    "    except:\n",
    "        price = None\n",
    "    try:\n",
    "        seller_location = parent.find(\"span\", class_=\"cmp-city\").get_text(strip=True)\n",
    "    except:\n",
    "        seller_location = None\n",
    "    try:\n",
    "        description = parent.find(\"p\", class_=\"clr5 mt-5\").get_text(strip=True)\n",
    "    except:\n",
    "        description = None\n",
    "\n",
    "    products.append({\n",
    "        \"product_name\": product_name,\n",
    "        \"price\": price,\n",
    "        \"seller_location\": seller_location,\n",
    "        \"description\": description,\n",
    "        \"product_url\": product_url,\n",
    "        \"category\": \"Tiles\",\n",
    "        \"scraped_at\": datetime.now().isoformat()\n",
    "    })\n",
    "\n",
    "# Convert to DataFrame\n",
    "df = pd.DataFrame(products)\n",
    "\n",
    "# Save to CSV\n",
    "df.to_csv(\"indiamart_tiles_products.csv\", index=False)\n",
    "\n",
    "print(f\"Scraped {len(df)} products from IndiaMART (Tiles)\")\n"
   ]
  },
  {
   "cell_type": "code",
   "execution_count": 2,
   "id": "1ef37398-f270-4f7a-804c-fa935ec5200d",
   "metadata": {},
   "outputs": [
    {
     "ename": "SyntaxError",
     "evalue": "invalid syntax (4174414626.py, line 1)",
     "output_type": "error",
     "traceback": [
      "\u001b[1;36m  Cell \u001b[1;32mIn[2], line 1\u001b[1;36m\u001b[0m\n\u001b[1;33m    pip install selenium\u001b[0m\n\u001b[1;37m        ^\u001b[0m\n\u001b[1;31mSyntaxError\u001b[0m\u001b[1;31m:\u001b[0m invalid syntax\n"
     ]
    }
   ],
   "source": [
    "pip install selenium\n",
    "\n"
   ]
  }
 ],
 "metadata": {
  "kernelspec": {
   "display_name": "Python 3 (ipykernel)",
   "language": "python",
   "name": "python3"
  },
  "language_info": {
   "codemirror_mode": {
    "name": "ipython",
    "version": 3
   },
   "file_extension": ".py",
   "mimetype": "text/x-python",
   "name": "python",
   "nbconvert_exporter": "python",
   "pygments_lexer": "ipython3",
   "version": "3.10.11"
  }
 },
 "nbformat": 4,
 "nbformat_minor": 5
}
